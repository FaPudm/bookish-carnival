{
  "nbformat": 4,
  "nbformat_minor": 0,
  "metadata": {
    "colab": {
      "provenance": [],
      "authorship_tag": "ABX9TyPEOxbpk2yi3TFJpLxwtM4V",
      "include_colab_link": true
    },
    "kernelspec": {
      "name": "python3",
      "display_name": "Python 3"
    },
    "language_info": {
      "name": "python"
    }
  },
  "cells": [
    {
      "cell_type": "markdown",
      "metadata": {
        "id": "view-in-github",
        "colab_type": "text"
      },
      "source": [
        "<a href=\"https://colab.research.google.com/github/FaPudm/bookish-carnival/blob/master/untitled3.ipynb\" target=\"_parent\"><img src=\"https://colab.research.google.com/assets/colab-badge.svg\" alt=\"Open In Colab\"/></a>"
      ]
    },
    {
      "cell_type": "code",
      "execution_count": null,
      "metadata": {
        "colab": {
          "base_uri": "https://localhost:8080/",
          "height": 36
        },
        "id": "TUUy6nvui_e0",
        "outputId": "eb286de4-3231-4b51-ab21-167cada6d649"
      },
      "outputs": [
        {
          "output_type": "execute_result",
          "data": {
            "text/plain": [
              "'sample_data'"
            ],
            "application/vnd.google.colaboratory.intrinsic+json": {
              "type": "string"
            }
          },
          "metadata": {},
          "execution_count": 2
        }
      ],
      "source": [
        "import subprocess\n",
        "ret = subprocess.getoutput('ls')\n",
        "ret"
      ]
    },
    {
      "cell_type": "markdown",
      "source": [],
      "metadata": {
        "id": "IaiQVmNAmL4f"
      }
    },
    {
      "cell_type": "code",
      "source": [
        "import multiprocessing\n",
        "import os\n",
        "\n",
        "def do_this(what):\n",
        "  whoami(what)\n",
        "  print (\"hibb %s\")\n",
        "\n",
        "def whoami(what):\n",
        "  print(\"Process %s says: %s\" % (os.getpid(), what))\n",
        "\n",
        "if __name__ == \"__main__\":\n",
        "  whoami(\"I'm the main program\")\n",
        "  for n in range(6):\n",
        "    p = multiprocessing.Process(target=do_this,args=(\"I'm function %s\" % n,))\n",
        "    p.start()\n",
        "\n",
        "\n",
        "\n",
        "\n"
      ],
      "metadata": {
        "colab": {
          "base_uri": "https://localhost:8080/"
        },
        "id": "iq257wjZmTN8",
        "outputId": "a404da7e-abb7-4779-a838-f10f7eeaf0a1"
      },
      "execution_count": null,
      "outputs": [
        {
          "output_type": "stream",
          "name": "stdout",
          "text": [
            "Process 236 says: I'm the main program\n",
            "Process 18195 says: I'm function 0\n",
            "Process 18198 says: I'm function 1hibb %s\n",
            "\n",
            "hibb %s\n",
            "Process 18207 says: I'm function 2\n",
            "Process 18213 says: I'm function 3Process 18217 says: I'm function 4hibb %s\n",
            "\n",
            "\n",
            "hibb %s\n",
            "Process 18222 says: I'm function 5hibb %s\n",
            "hibb %s\n",
            "\n"
          ]
        }
      ]
    }
  ]
}